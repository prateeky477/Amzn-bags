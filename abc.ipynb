{
 "cells": [
  {
   "cell_type": "code",
   "execution_count": 4,
   "metadata": {},
   "outputs": [],
   "source": [
    "import re\n",
    "import csv\n",
    "import random"
   ]
  },
  {
   "cell_type": "code",
   "execution_count": 5,
   "metadata": {},
   "outputs": [],
   "source": [
    "import requests\n",
    "from bs4 import BeautifulSoup\n",
    "import time\n",
    "import pandas as pd"
   ]
  },
  {
   "cell_type": "code",
   "execution_count": 6,
   "metadata": {},
   "outputs": [],
   "source": [
    "\n",
    "base_url = \"https://www.amazon.in/s?k=bags&crid=2M096C61O4MLT&qid=1653308124&sprefix=ba%2Caps%2C283&ref=sr_pg_\""
   ]
  },
  {
   "cell_type": "code",
   "execution_count": 7,
   "metadata": {},
   "outputs": [],
   "source": [
    "headers={\"User-Agent\": \"Mozilla/5.0 (Windows NT 10.0; Win64; x64) AppleWebKit/537.36 (KHTML, like Gecko) Chrome/107.0.0.0 Safari/537.36 Edg/107.0.1418.52\"}"
   ]
  },
  {
   "cell_type": "code",
   "execution_count": 8,
   "metadata": {},
   "outputs": [],
   "source": [
    "csvFile = open('test1.csv', 'w+',encoding=\"utf-8\")\n",
    "writer = csv.writer(csvFile)\n",
    "writer.writerow(('P_URL', 'P_NAME','PRICE','RATING','REVIEW_COUNT'))\n",
    "for i in range(1,21):\n",
    "    bb_url=base_url+str(i)\n",
    "    page = requests.get(bb_url, headers=headers)\n",
    "\n",
    "    soup1 = BeautifulSoup(page.content, \"html.parser\")\n",
    "\n",
    "    soup2 = BeautifulSoup(soup1.prettify(), \"html.parser\")\n",
    "\n",
    "    pUrl= soup2.find_all(class_='a-link-normal s-underline-text s-underline-link-text s-link-style a-text-normal', attrs={'href':re.compile(\"^/\")})\n",
    "    title = soup2.find_all(class_='a-size-medium a-color-base a-text-normal')\n",
    "    price = soup2.find_all(class_=\"a-price-whole\")\n",
    "    rating = soup2.find_all(class_=\"a-icon-alt\")\n",
    "    numberOfReview = soup2.find_all(class_=\"a-size-base puis-light-weight-text s-link-centralized-style\")\n",
    "    for j,k,l,m,n in zip(pUrl,title,price,rating,numberOfReview):\n",
    "        writer.writerow((\"https://www.amazon.in\"+j.get('href').strip(),k.text.strip(),l.text.strip(),m.text.strip(),n.text.strip()))      \n",
    "csvFile.close()"
   ]
  },
  {
   "cell_type": "code",
   "execution_count": 26,
   "metadata": {},
   "outputs": [],
   "source": [
    "df=pd.read_csv(\"test1.csv\")\n",
    "df=df['P_URL']"
   ]
  },
  {
   "cell_type": "code",
   "execution_count": null,
   "metadata": {},
   "outputs": [],
   "source": [
    "csvFile = open('test3.csv', 'w+' ,encoding=\"utf-8\")\n",
    "writer = csv.writer(csvFile)\n",
    "writer.writerow(('Description', 'ASIN', 'Product_Description','Manufacturer',))\n",
    "for i in range(len(df)):\n",
    "    newUrl=df[i]\n",
    "    page2 = requests.get(newUrl, headers=headers)\n",
    "    soup3 = BeautifulSoup(page2.content, \"html.parser\")\n",
    "    soup4 = BeautifulSoup(soup3.prettify(), \"html.parser\")\n",
    "    des=soup4.find(id='productTitle')\n",
    "    p_details=soup4.find(id='detailBullets_feature_div')\n",
    "    if p_details:\n",
    "        asin=p_details.find_all('li')[3].find_all('span')[2]\n",
    "        manuf=p_details.find_all('li')[2].find_all('span')[2]\n",
    "    pDesc=soup4.find(id='productDescription')\n",
    "    if pDesc:\n",
    "        if pDesc.p:\n",
    "            pDesc1=pDesc.p.find_all('span')[0]\n",
    "    if p_details and pDesc and des :\n",
    "        writer.writerow((des.text.strip(),asin.text.strip(),pDesc1.text.strip(),manuf.text.strip()))\n",
    "csvFile.close()"
   ]
  }
 ],
 "metadata": {
  "kernelspec": {
   "display_name": "Python 3.10.6 64-bit",
   "language": "python",
   "name": "python3"
  },
  "language_info": {
   "codemirror_mode": {
    "name": "ipython",
    "version": 3
   },
   "file_extension": ".py",
   "mimetype": "text/x-python",
   "name": "python",
   "nbconvert_exporter": "python",
   "pygments_lexer": "ipython3",
   "version": "3.10.6"
  },
  "orig_nbformat": 4,
  "vscode": {
   "interpreter": {
    "hash": "9c3ae193e71b0c4613b1e8081c18193db6af2274cfe6b64972cb0765e2951fa6"
   }
  }
 },
 "nbformat": 4,
 "nbformat_minor": 2
}
